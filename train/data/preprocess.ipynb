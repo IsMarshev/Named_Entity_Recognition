{
 "cells": [
  {
   "cell_type": "code",
   "execution_count": 85,
   "metadata": {},
   "outputs": [],
   "source": [
    "import pandas as pd"
   ]
  },
  {
   "cell_type": "code",
   "execution_count": 86,
   "metadata": {},
   "outputs": [],
   "source": [
    "train = 'train.txt'\n",
    "test = 'test.txt'\n",
    "valid = 'valid.txt'"
   ]
  },
  {
   "cell_type": "code",
   "execution_count": 87,
   "metadata": {},
   "outputs": [],
   "source": [
    "with open(train, 'r', encoding='utf-8') as file:\n",
    "    lines = file.readlines()\n",
    "data = [line.strip().split() for line in lines]\n",
    "df_train = pd.DataFrame(data, columns=['Word', 'POS', 'Chunk', 'Entity'])"
   ]
  },
  {
   "cell_type": "code",
   "execution_count": 88,
   "metadata": {},
   "outputs": [],
   "source": [
    "current_sent = []\n",
    "current_label = []\n",
    "label_list = []\n",
    "sent_list = []\n",
    "for k, v in enumerate(df_train['Word']):\n",
    "    if v != None and v != '-DOCSTART-':\n",
    "        current_sent.append(v)\n",
    "        current_label.append(df_train['Entity'][k])\n",
    "    else:\n",
    "        if current_sent:\n",
    "            sent_list.append(' '.join(current_sent))\n",
    "            label_list.append(' '.join(current_label))\n",
    "        current_sent = []\n",
    "        current_label = []\n",
    "if current_sent:\n",
    "    sent_list.append(' '.join(current_sent))\n",
    "    label_list.append(' '.join(current_label))\n",
    "\n"
   ]
  },
  {
   "cell_type": "code",
   "execution_count": 89,
   "metadata": {},
   "outputs": [],
   "source": [
    "df_train = pd.DataFrame({'sent':sent_list,'lable':label_list})\n",
    "df_train.dropna(inplace=True)\n",
    "df_train.to_csv('train.csv',index=False)"
   ]
  },
  {
   "cell_type": "code",
   "execution_count": 90,
   "metadata": {},
   "outputs": [],
   "source": [
    "with open(test, 'r', encoding='utf-8') as file:\n",
    "    lines = file.readlines()\n",
    "data = [line.strip().split() for line in lines]\n",
    "df_test = pd.DataFrame(data, columns=['Word', 'POS', 'Chunk', 'Entity'])"
   ]
  },
  {
   "cell_type": "code",
   "execution_count": 92,
   "metadata": {},
   "outputs": [],
   "source": [
    "current_sent = []\n",
    "current_label = []\n",
    "label_list = []\n",
    "sent_list = []\n",
    "for k, v in enumerate(df_test['Word']):\n",
    "    if v != None and v != '-DOCSTART-':\n",
    "        current_sent.append(v)\n",
    "        current_label.append(df_test['Entity'][k])\n",
    "    else:\n",
    "        if current_sent:\n",
    "            sent_list.append(' '.join(current_sent))\n",
    "            label_list.append(' '.join(current_label))\n",
    "        current_sent = []\n",
    "        current_label = []\n",
    "if current_sent:\n",
    "    sent_list.append(' '.join(current_sent))\n",
    "    label_list.append(' '.join(current_label))\n"
   ]
  },
  {
   "cell_type": "code",
   "execution_count": 93,
   "metadata": {},
   "outputs": [],
   "source": [
    "df_test = pd.DataFrame({'sent':sent_list,'lable':label_list})\n",
    "df_test.dropna(inplace=True)\n",
    "df_test.to_csv('test.csv',index=False)"
   ]
  },
  {
   "cell_type": "code",
   "execution_count": 95,
   "metadata": {},
   "outputs": [],
   "source": [
    "with open(valid, 'r', encoding='utf-8') as file:\n",
    "    lines = file.readlines()\n",
    "data = [line.strip().split() for line in lines]\n",
    "df_valid= pd.DataFrame(data, columns=['Word', 'POS', 'Chunk', 'Entity'])"
   ]
  },
  {
   "cell_type": "code",
   "execution_count": 96,
   "metadata": {},
   "outputs": [],
   "source": [
    "current_sent = []\n",
    "current_label = []\n",
    "label_list = []\n",
    "sent_list = []\n",
    "for k, v in enumerate(df_valid['Word']):\n",
    "    if v != None and v != '-DOCSTART-':\n",
    "        current_sent.append(v)\n",
    "        current_label.append(df_valid['Entity'][k])\n",
    "    else:\n",
    "        if current_sent:\n",
    "            sent_list.append(' '.join(current_sent))\n",
    "            label_list.append(' '.join(current_label))\n",
    "        current_sent = []\n",
    "        current_label = []\n",
    "if current_sent:\n",
    "    sent_list.append(' '.join(current_sent))\n",
    "    label_list.append(' '.join(current_label))\n"
   ]
  },
  {
   "cell_type": "code",
   "execution_count": 97,
   "metadata": {},
   "outputs": [],
   "source": [
    "df_valid = pd.DataFrame({'sent':sent_list,'lable':label_list})\n",
    "df_valid.dropna(inplace=True)\n",
    "df_valid.to_csv('valid.csv',index=False)"
   ]
  },
  {
   "cell_type": "code",
   "execution_count": null,
   "metadata": {},
   "outputs": [],
   "source": []
  }
 ],
 "metadata": {
  "kernelspec": {
   "display_name": "Python 3",
   "language": "python",
   "name": "python3"
  },
  "language_info": {
   "codemirror_mode": {
    "name": "ipython",
    "version": 3
   },
   "file_extension": ".py",
   "mimetype": "text/x-python",
   "name": "python",
   "nbconvert_exporter": "python",
   "pygments_lexer": "ipython3",
   "version": "3.8.5"
  }
 },
 "nbformat": 4,
 "nbformat_minor": 2
}
